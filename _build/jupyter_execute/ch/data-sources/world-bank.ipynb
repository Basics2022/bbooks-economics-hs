{
 "cells": [
  {
   "cell_type": "code",
   "execution_count": 1,
   "id": "77b8893d-ee5f-4933-a240-64f4d16b45a7",
   "metadata": {},
   "outputs": [
    {
     "name": "stdout",
     "output_type": "stream",
     "text": [
      "2\n",
      "{'page': 1, 'pages': 10, 'per_page': 300, 'total': 2926, 'sourceid': '2', 'lastupdated': '2025-04-15'}\n",
      "{'indicator': {'id': 'SP.POP.TOTL', 'value': 'Population, total'}, 'country': {'id': 'ZH', 'value': 'Africa Eastern and Southern'}, 'countryiso3code': 'AFE', 'date': '2023', 'value': 750503764, 'unit': '', 'obs_status': '', 'decimal': 0}\n",
      "    Country  Year    Population\n",
      "0       AFE  2023  7.505038e+08\n",
      "1       AFE  2022  7.318214e+08\n",
      "2       AFE  2021  7.130909e+08\n",
      "3       AFE  2020  6.944461e+08\n",
      "4       AFE  2019  6.759502e+08\n",
      "..      ...   ...           ...\n",
      "295     LDC  2014  9.402841e+08\n",
      "296     LDC  2013  9.182696e+08\n",
      "297     LMY  2023  6.633110e+09\n",
      "298     LMY  2022  6.568732e+09\n",
      "299     LMY  2021  6.505839e+09\n",
      "\n",
      "[300 rows x 3 columns]\n"
     ]
    }
   ],
   "source": [
    "import requests\n",
    "import pandas as pd\n",
    "import json\n",
    "\n",
    "# Define the API endpoint and parameters\n",
    "BASE_URL = \"http://api.worldbank.org/v2/country/all/indicator/SP.POP.TOTL\"\n",
    "PARAMS = {\n",
    "    \"format\": \"json\",     # Return format\n",
    "    \"date\": \"2013:2023\",  # Data for the last 10 years (adjust as needed)\n",
    "    \"per_page\": \"300\"     # Number of records per page\n",
    "}\n",
    "\n",
    "# Make the API request\n",
    "response = requests.get(BASE_URL, params=PARAMS)\n",
    "\n",
    "# Check if the request was successful\n",
    "if response.status_code == 200:\n",
    "    data = response.json()\n",
    "\n",
    "    print(len(data))\n",
    "    print(data[0])\n",
    "    print(data[1][0])\n",
    "    \n",
    "    #print(json.dumps(data, indent=3))\n",
    "    \n",
    "    # The data is in two parts: metadata and records\n",
    "    records = data[1]  # The second element contains the data\n",
    "    \n",
    "    # Convert the data to a pandas DataFrame\n",
    "    df = pd.DataFrame(records)\n",
    "    \n",
    "    # Filter and clean the DataFrame\n",
    "    df = df[[\"countryiso3code\", \"date\", \"value\"]]  # Select relevant columns\n",
    "    df = df.rename(columns={\"countryiso3code\": \"Country\", \"date\": \"Year\", \"value\": \"Population\"})  # Rename for clarity\n",
    "    # df = df.explode(\"Country\").reset_index(drop=True)  # Flatten nested data\n",
    "    df[\"Country\"] = df[\"Country\"].apply(lambda x: x[\"value\"] if isinstance(x, dict) else x)  # Extract country names\n",
    "    \n",
    "    # Display the DataFrame\n",
    "    print(df)\n",
    "else:\n",
    "    print(f\"Failed to retrieve data: {response.status_code}\")\n"
   ]
  },
  {
   "cell_type": "code",
   "execution_count": null,
   "id": "5633aaaf-81db-4cfd-a4a4-c01c4adbf626",
   "metadata": {},
   "outputs": [],
   "source": []
  }
 ],
 "metadata": {
  "kernelspec": {
   "display_name": "Python 3 (ipykernel)",
   "language": "python",
   "name": "python3"
  },
  "language_info": {
   "codemirror_mode": {
    "name": "ipython",
    "version": 3
   },
   "file_extension": ".py",
   "mimetype": "text/x-python",
   "name": "python",
   "nbconvert_exporter": "python",
   "pygments_lexer": "ipython3",
   "version": "3.8.10"
  }
 },
 "nbformat": 4,
 "nbformat_minor": 5
}